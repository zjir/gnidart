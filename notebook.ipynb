{
 "cells": [
  {
   "cell_type": "code",
   "execution_count": 2,
   "id": "8fe05d4d",
   "metadata": {},
   "outputs": [
    {
     "name": "stdout",
     "output_type": "stream",
     "text": [
      "Reading C:\\Users\\jiruszde\\OneDrive\\Main\\1.Projects\\My\\Trading\\Jupyter\\2025-tlob\\data\\raw-sierra\\dom-datatick.csv\n",
      "  wrote NQ_2024-10-20.csv (2 rows)\n",
      "  wrote NQ_2024-10-21.csv (43346 rows)\n",
      "  wrote NQ_2024-10-22.csv (45386 rows)\n",
      "  wrote NQ_2024-10-23.csv (59374 rows)\n",
      "  wrote NQ_2024-10-24.csv (44694 rows)\n",
      "  wrote NQ_2024-10-25.csv (55206 rows)\n",
      "  wrote NQ_2024-10-27.csv (1106 rows)\n",
      "  wrote NQ_2024-10-28.csv (41446 rows)\n",
      "  wrote NQ_2024-10-29.csv (48424 rows)\n",
      "  wrote NQ_2024-10-30.csv (50978 rows)\n",
      "  wrote NQ_2024-10-31.csv (65096 rows)\n",
      "  wrote NQ_2024-11-01.csv (52108 rows)\n",
      "  wrote NQ_2024-11-03.csv (1580 rows)\n",
      "  wrote NQ_2024-11-04.csv (49388 rows)\n",
      "  wrote NQ_2024-11-05.csv (6392 rows)\n",
      "h=4s  TP=3t  down%=36.32%\n",
      "h=4s  TP=3t  down%=37.18%\n",
      "h=4s  TP=3t  down%=38.68%\n",
      "h=6s  TP=3t  down%=38.58%\n",
      "h=6s  TP=3t  down%=39.68%\n",
      "h=6s  TP=3t  down%=40.82%\n",
      "h=9s  TP=3t  down%=40.64%\n",
      "h=9s  TP=3t  down%=41.60%\n",
      "h=9s  TP=3t  down%=43.22%\n",
      "h=30s  TP=3t  down%=44.74%\n",
      "h=30s  TP=3t  down%=46.10%\n",
      "h=30s  TP=3t  down%=47.15%\n",
      "Saved .npy files in C:\\Users\\jiruszde\\OneDrive\\Main\\1.Projects\\My\\Trading\\Jupyter\\2025-tlob\\data\\NQ\n"
     ]
    }
   ],
   "source": [
    "from preprocessing.nq import NQDataBuilder\n",
    "\n",
    "builder = NQDataBuilder(\n",
    "    data_dir    = \"c:\\\\Users\\\\jiruszde\\\\OneDrive\\\\Main\\\\1.Projects\\\\My\\\\Trading\\\\Jupyter\\\\2025-tlob\\\\data\",                      # scratch folder\n",
    "    csv_files   = \"c:\\\\Users\\\\jiruszde\\\\OneDrive\\\\Main\\\\1.Projects\\\\My\\\\Trading\\\\Jupyter\\\\2025-tlob\\\\data\\\\raw-sierra\\\\dom-datatick.csv\",        # small test file\n",
    "    split_rates = (0.5, 0.25, 0.25),            # shorter run\n",
    "    sampling_time = \"500ms\",\n",
    ")\n",
    "builder.prepare_save_datasets(3, [4,6,9,30])"
   ]
  },
  {
   "cell_type": "code",
   "execution_count": null,
   "id": "05f81414",
   "metadata": {},
   "outputs": [],
   "source": []
  }
 ],
 "metadata": {
  "kernelspec": {
   "display_name": "TLOB Kernel",
   "language": "python",
   "name": "tlob-env"
  },
  "language_info": {
   "codemirror_mode": {
    "name": "ipython",
    "version": 3
   },
   "file_extension": ".py",
   "mimetype": "text/x-python",
   "name": "python",
   "nbconvert_exporter": "python",
   "pygments_lexer": "ipython3",
   "version": "3.10.11"
  }
 },
 "nbformat": 4,
 "nbformat_minor": 5
}
