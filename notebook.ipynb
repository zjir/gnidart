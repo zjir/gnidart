{
 "cells": [
  {
   "cell_type": "code",
   "execution_count": 13,
   "id": "8fe05d4d",
   "metadata": {},
   "outputs": [
    {
     "name": "stdout",
     "output_type": "stream",
     "text": [
      "Daily CSVs already exist – skipping re‑split.\n",
      "h=4s  TP=3t  down%=30.81%\n",
      "h=4s  TP=3t  down%=31.76%\n",
      "h=4s  TP=3t  down%=35.70%\n",
      "h=6s  TP=3t  down%=34.27%\n",
      "h=6s  TP=3t  down%=35.23%\n",
      "h=6s  TP=3t  down%=38.75%\n",
      "h=9s  TP=3t  down%=37.06%\n",
      "h=9s  TP=3t  down%=38.37%\n",
      "h=9s  TP=3t  down%=41.01%\n",
      "h=30s  TP=3t  down%=42.52%\n",
      "h=30s  TP=3t  down%=44.06%\n",
      "h=30s  TP=3t  down%=45.69%\n",
      "Saved .npy files in C:\\Users\\jiruszde\\OneDrive\\Main\\1.Projects\\My\\Trading\\Jupyter\\2025-tlob\\data\\NQ\n"
     ]
    }
   ],
   "source": [
    "from preprocessing.nq import NQDataBuilder\n",
    "\n",
    "builder = NQDataBuilder(\n",
    "    data_dir    = \"c:\\\\Users\\\\jiruszde\\\\OneDrive\\\\Main\\\\1.Projects\\\\My\\\\Trading\\\\Jupyter\\\\2025-tlob\\\\data\",                      # scratch folder\n",
    "    csv_files   = \"c:\\\\Users\\\\jiruszde\\\\OneDrive\\\\Main\\\\1.Projects\\\\My\\\\Trading\\\\Jupyter\\\\2025-tlob\\\\data\\\\raw-sierra\\\\dom-datatick.csv\",        # small test file\n",
    "    split_rates = (0.5, 0.25, 0.25),            # shorter run\n",
    "    sampling_time = \"500ms\",\n",
    ")\n",
    "builder.prepare_save_datasets(3, [4,6,9,30])"
   ]
  },
  {
   "cell_type": "code",
   "execution_count": null,
   "id": "05f81414",
   "metadata": {},
   "outputs": [],
   "source": []
  }
 ],
 "metadata": {
  "kernelspec": {
   "display_name": "TLOB Kernel",
   "language": "python",
   "name": "tlob-env"
  },
  "language_info": {
   "codemirror_mode": {
    "name": "ipython",
    "version": 3
   },
   "file_extension": ".py",
   "mimetype": "text/x-python",
   "name": "python",
   "nbconvert_exporter": "python",
   "pygments_lexer": "ipython3",
   "version": "3.10.11"
  }
 },
 "nbformat": 4,
 "nbformat_minor": 5
}
