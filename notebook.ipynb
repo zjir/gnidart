{
 "cells": [
  {
   "cell_type": "code",
   "execution_count": null,
   "id": "8fe05d4d",
   "metadata": {},
   "outputs": [
    {
     "name": "stdout",
     "output_type": "stream",
     "text": [
      "Daily CSVs already exist – skipping re‑split.\n"
     ]
    }
   ],
   "source": [
    "from preprocessing.nq import NQDataBuilder\n",
    "\n",
    "builder = NQDataBuilder(\n",
    "    data_dir    = \"c:\\\\Users\\\\jiruszde\\\\OneDrive\\\\Main\\\\1.Projects\\\\My\\\\Trading\\\\Jupyter\\\\2025-tlob\\\\data\",                      # scratch folder\n",
    "    csv_files   = \"c:\\\\Users\\\\jiruszde\\\\OneDrive\\\\Main\\\\1.Projects\\\\My\\\\Trading\\\\Jupyter\\\\2025-tlob\\\\data\\\\raw-sierra\\\\dom-datatick.csv\",        # small test file\n",
    "    split_rates = (0.5, 0.25, 0.25),            # shorter run\n",
    "    sampling_time = \"500ms\",\n",
    ")\n",
    "builder.prepare_save_datasets()"
   ]
  },
  {
   "cell_type": "code",
   "execution_count": null,
   "id": "05f81414",
   "metadata": {},
   "outputs": [],
   "source": []
  }
 ],
 "metadata": {
  "kernelspec": {
   "display_name": "TLOB Kernel",
   "language": "python",
   "name": "tlob-env"
  },
  "language_info": {
   "codemirror_mode": {
    "name": "ipython",
    "version": 3
   },
   "file_extension": ".py",
   "mimetype": "text/x-python",
   "name": "python",
   "nbconvert_exporter": "python",
   "pygments_lexer": "ipython3",
   "version": "3.10.11"
  }
 },
 "nbformat": 4,
 "nbformat_minor": 5
}
