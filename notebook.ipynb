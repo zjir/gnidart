{
 "cells": [
  {
   "cell_type": "code",
   "execution_count": 1,
   "id": "8fe05d4d",
   "metadata": {},
   "outputs": [
    {
     "name": "stderr",
     "output_type": "stream",
     "text": [
      "c:\\Users\\jiruszde\\OneDrive\\Main\\1.Projects\\My\\Trading\\Jupyter\\2025-tlob\\tlob-env\\lib\\site-packages\\tqdm\\auto.py:21: TqdmWarning: IProgress not found. Please update jupyter and ipywidgets. See https://ipywidgets.readthedocs.io/en/stable/user_install.html\n",
      "  from .autonotebook import tqdm as notebook_tqdm\n"
     ]
    },
    {
     "name": "stdout",
     "output_type": "stream",
     "text": [
      "Daily CSVs already exist – skipping re‑split.\n",
      "horizon           : 10\n",
      "tick size           : 2500\n",
      "alpha (ticks)       : 6\n",
      "alpha (points)      : 15000\n",
      "Label distribution  : {0: 41428, 1: 96778, 2: 40282}\n",
      "Label percentages   : {0: 0.2321, 1: 0.5422, 2: 0.2257}\n",
      "horizon           : 10\n",
      "tick size           : 2500\n",
      "alpha (ticks)       : 6\n",
      "alpha (points)      : 15000\n",
      "Label distribution  : {0: 25500, 1: 57980, 2: 26174}\n",
      "Label percentages   : {0: 0.2325, 1: 0.5288, 2: 0.2387}\n",
      "horizon           : 10\n",
      "tick size           : 2500\n",
      "alpha (ticks)       : 6\n",
      "alpha (points)      : 15000\n",
      "Label distribution  : {0: 20841, 1: 33564, 2: 21576}\n",
      "Label percentages   : {0: 0.2743, 1: 0.4417, 2: 0.2840}\n",
      "horizon           : 12\n",
      "tick size           : 2500\n",
      "alpha (ticks)       : 6\n",
      "alpha (points)      : 15000\n",
      "Label distribution  : {0: 45060, 1: 89670, 2: 43756}\n",
      "Label percentages   : {0: 0.2525, 1: 0.5024, 2: 0.2452}\n",
      "horizon           : 12\n",
      "tick size           : 2500\n",
      "alpha (ticks)       : 6\n",
      "alpha (points)      : 15000\n",
      "Label distribution  : {0: 27304, 1: 54088, 2: 28260}\n",
      "Label percentages   : {0: 0.2490, 1: 0.4933, 2: 0.2577}\n",
      "horizon           : 12\n",
      "tick size           : 2500\n",
      "alpha (ticks)       : 6\n",
      "alpha (points)      : 15000\n",
      "Label distribution  : {0: 22094, 1: 31052, 2: 22833}\n",
      "Label percentages   : {0: 0.2908, 1: 0.4087, 2: 0.3005}\n",
      "horizon           : 14\n",
      "tick size           : 2500\n",
      "alpha (ticks)       : 6\n",
      "alpha (points)      : 15000\n",
      "Label distribution  : {0: 48018, 1: 83848, 2: 46618}\n",
      "Label percentages   : {0: 0.2690, 1: 0.4698, 2: 0.2612}\n",
      "horizon           : 14\n",
      "tick size           : 2500\n",
      "alpha (ticks)       : 6\n",
      "alpha (points)      : 15000\n",
      "Label distribution  : {0: 28950, 1: 50660, 2: 30040}\n",
      "Label percentages   : {0: 0.2640, 1: 0.4620, 2: 0.2740}\n",
      "horizon           : 14\n",
      "tick size           : 2500\n",
      "alpha (ticks)       : 6\n",
      "alpha (points)      : 15000\n",
      "Label distribution  : {0: 23078, 1: 28985, 2: 23914}\n",
      "Label percentages   : {0: 0.3037, 1: 0.3815, 2: 0.3148}\n",
      "horizon           : 16\n",
      "tick size           : 2500\n",
      "alpha (ticks)       : 6\n",
      "alpha (points)      : 15000\n",
      "Label distribution  : {0: 50686, 1: 78954, 2: 48842}\n",
      "Label percentages   : {0: 0.2840, 1: 0.4424, 2: 0.2737}\n",
      "horizon           : 16\n",
      "tick size           : 2500\n",
      "alpha (ticks)       : 6\n",
      "alpha (points)      : 15000\n",
      "Label distribution  : {0: 30252, 1: 48116, 2: 31280}\n",
      "Label percentages   : {0: 0.2759, 1: 0.4388, 2: 0.2853}\n",
      "horizon           : 16\n",
      "tick size           : 2500\n",
      "alpha (ticks)       : 6\n",
      "alpha (points)      : 15000\n",
      "Label distribution  : {0: 24050, 1: 27131, 2: 24794}\n",
      "Label percentages   : {0: 0.3166, 1: 0.3571, 2: 0.3263}\n",
      "Saved .npy files in C:\\Users\\jiruszde\\OneDrive\\Main\\1.Projects\\My\\Trading\\Jupyter\\2025-tlob\\data\\NQ\n"
     ]
    }
   ],
   "source": [
    "from preprocessing.nq import NQDataBuilder\n",
    "\n",
    "builder = NQDataBuilder(\n",
    "    data_dir    = \"c:\\\\Users\\\\jiruszde\\\\OneDrive\\\\Main\\\\1.Projects\\\\My\\\\Trading\\\\Jupyter\\\\2025-tlob\\\\data\",                      # scratch folder\n",
    "    csv_files   = \"c:\\\\Users\\\\jiruszde\\\\OneDrive\\\\Main\\\\1.Projects\\\\My\\\\Trading\\\\Jupyter\\\\2025-tlob\\\\data\\\\raw-sierra\\\\dom-datatick.csv\",        # small test file\n",
    "    split_rates = (0.5, 0.25, 0.25),            # shorter run\n",
    "    sampling_time = \"500ms\",\n",
    ")\n",
    "builder.prepare_save_datasets()"
   ]
  },
  {
   "cell_type": "code",
   "execution_count": null,
   "id": "05f81414",
   "metadata": {},
   "outputs": [],
   "source": []
  }
 ],
 "metadata": {
  "kernelspec": {
   "display_name": "TLOB Kernel",
   "language": "python",
   "name": "tlob-env"
  },
  "language_info": {
   "codemirror_mode": {
    "name": "ipython",
    "version": 3
   },
   "file_extension": ".py",
   "mimetype": "text/x-python",
   "name": "python",
   "nbconvert_exporter": "python",
   "pygments_lexer": "ipython3",
   "version": "3.10.11"
  }
 },
 "nbformat": 4,
 "nbformat_minor": 5
}
