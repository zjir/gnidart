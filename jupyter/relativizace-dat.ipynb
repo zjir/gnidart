{
 "cells": [
  {
   "cell_type": "code",
   "execution_count": 2,
   "id": "cd42457b",
   "metadata": {},
   "outputs": [
    {
     "name": "stdout",
     "output_type": "stream",
     "text": [
      "📥  reading CSV …\n",
      "✅ saved ..\\data\\processed\\my_nq\\raw_lob.npy   4,236,994 rows × 41 cols\n"
     ]
    }
   ],
   "source": [
    "#!/usr/bin/env python3\n",
    "\"\"\"\n",
    "import_raw_lob_ms.py\n",
    "────────────────────\n",
    "Loads a DOM CSV whose first column is *Unix-epoch milliseconds*\n",
    "and saves it as a NumPy array:\n",
    "    • ts  → float64  seconds (millisecond resolution preserved)\n",
    "    • all price/size columns → float32\n",
    "\"\"\"\n",
    "\n",
    "import numpy as np\n",
    "import pandas as pd\n",
    "from pathlib import Path\n",
    "\n",
    "# ───────── configuration ─────────\n",
    "CSV_PATH = Path(\"../data/raw-sierra/dom-datatick.csv\")\n",
    "OUT_DIR  = Path(\"../data/processed/my_nq\")\n",
    "OUT_DIR.mkdir(parents=True, exist_ok=True)\n",
    "\n",
    "N_LEVELS = 10\n",
    "COLS = ([\"ts_ms\"] +\n",
    "        [f\"bid_px{i}\" for i in range(N_LEVELS)] +\n",
    "        [f\"bid_sz{i}\" for i in range(N_LEVELS)] +\n",
    "        [f\"ask_px{i}\" for i in range(N_LEVELS)] +\n",
    "        [f\"ask_sz{i}\" for i in range(N_LEVELS)])\n",
    "\n",
    "print(\"📥  reading CSV …\")\n",
    "df = pd.read_csv(CSV_PATH, names=COLS)\n",
    "\n",
    "# ── keep timestamp in float64 seconds, others in float32 ──\n",
    "ts_sec   = (df[\"ts_ms\"].astype(np.float64) / 1_000.0).to_numpy()      # 64-bit\n",
    "features = df.iloc[:, 1:].astype(np.float32).to_numpy()               # 40 × float32\n",
    "\n",
    "raw = np.column_stack([ts_sec, features])      # shape (rows, 41)\n",
    "\n",
    "out_path = OUT_DIR / \"raw_lob.npy\"\n",
    "np.save(out_path, raw)\n",
    "print(f\"✅ saved {out_path}   {raw.shape[0]:,} rows × {raw.shape[1]} cols\")\n"
   ]
  },
  {
   "cell_type": "code",
   "execution_count": 3,
   "id": "79c3bb41",
   "metadata": {},
   "outputs": [
    {
     "name": "stdout",
     "output_type": "stream",
     "text": [
      "📥  loading raw_lob.npy …\n",
      "⏱️   resampling to 1-second grid …\n"
     ]
    },
    {
     "name": "stderr",
     "output_type": "stream",
     "text": [
      "C:\\Users\\jiruszde\\AppData\\Local\\Temp\\ipykernel_16188\\605449284.py:42: FutureWarning: 'S' is deprecated and will be removed in a future version, please use 's' instead.\n",
      "  df_1s = df.resample(\"1S\").last().ffill()\n"
     ]
    },
    {
     "name": "stdout",
     "output_type": "stream",
     "text": [
      "✅ saved ..\\data\\processed\\my_nq\\raw_lob_1s.npy   955,180 rows × 41 cols\n",
      "🔎  running sanity checks …\n",
      "   • timestamp step OK\n",
      "   • no NaN / Inf\n",
      "   first 3 rows:\n",
      " [[1.729e+09 2.051e+04 0.000e+00 0.000e+00 0.000e+00 0.000e+00 0.000e+00\n",
      "  0.000e+00 0.000e+00 0.000e+00 0.000e+00 1.000e+00 0.000e+00 0.000e+00\n",
      "  0.000e+00 0.000e+00 0.000e+00 0.000e+00 0.000e+00 0.000e+00 0.000e+00\n",
      "  2.051e+04 0.000e+00 0.000e+00 0.000e+00 0.000e+00 0.000e+00 0.000e+00\n",
      "  0.000e+00 0.000e+00 0.000e+00 1.000e+00 0.000e+00 0.000e+00 0.000e+00\n",
      "  0.000e+00 0.000e+00 0.000e+00 0.000e+00 0.000e+00 0.000e+00]\n",
      " [1.729e+09 2.051e+04 0.000e+00 0.000e+00 0.000e+00 0.000e+00 0.000e+00\n",
      "  0.000e+00 0.000e+00 0.000e+00 0.000e+00 1.000e+00 0.000e+00 0.000e+00\n",
      "  0.000e+00 0.000e+00 0.000e+00 0.000e+00 0.000e+00 0.000e+00 0.000e+00\n",
      "  2.051e+04 0.000e+00 0.000e+00 0.000e+00 0.000e+00 0.000e+00 0.000e+00\n",
      "  0.000e+00 0.000e+00 0.000e+00 1.000e+00 0.000e+00 0.000e+00 0.000e+00\n",
      "  0.000e+00 0.000e+00 0.000e+00 0.000e+00 0.000e+00 0.000e+00]\n",
      " [1.729e+09 2.051e+04 0.000e+00 0.000e+00 0.000e+00 0.000e+00 0.000e+00\n",
      "  0.000e+00 0.000e+00 0.000e+00 0.000e+00 1.000e+00 0.000e+00 0.000e+00\n",
      "  0.000e+00 0.000e+00 0.000e+00 0.000e+00 0.000e+00 0.000e+00 0.000e+00\n",
      "  2.051e+04 0.000e+00 0.000e+00 0.000e+00 0.000e+00 0.000e+00 0.000e+00\n",
      "  0.000e+00 0.000e+00 0.000e+00 1.000e+00 0.000e+00 0.000e+00 0.000e+00\n",
      "  0.000e+00 0.000e+00 0.000e+00 0.000e+00 0.000e+00 0.000e+00]]\n",
      "   last  3 rows:\n",
      " [[1.730e+09 2.008e+04 2.008e+04 2.008e+04 2.008e+04 2.008e+04 2.008e+04\n",
      "  2.007e+04 2.007e+04 2.007e+04 2.007e+04 2.000e+00 1.000e+00 3.000e+00\n",
      "  4.000e+00 4.000e+00 4.000e+00 5.000e+00 5.000e+00 3.000e+00 5.000e+00\n",
      "  2.008e+04 2.008e+04 2.008e+04 2.008e+04 2.008e+04 2.008e+04 2.008e+04\n",
      "  2.008e+04 2.008e+04 2.008e+04 2.000e+00 1.000e+00 3.000e+00 3.000e+00\n",
      "  2.000e+00 3.000e+00 3.000e+00 6.000e+00 3.000e+00 6.000e+00]\n",
      " [1.730e+09 2.008e+04 2.008e+04 2.008e+04 2.008e+04 2.008e+04 2.008e+04\n",
      "  2.007e+04 2.007e+04 2.007e+04 2.007e+04 2.000e+00 1.000e+00 3.000e+00\n",
      "  4.000e+00 4.000e+00 4.000e+00 5.000e+00 5.000e+00 3.000e+00 5.000e+00\n",
      "  2.008e+04 2.008e+04 2.008e+04 2.008e+04 2.008e+04 2.008e+04 2.008e+04\n",
      "  2.008e+04 2.008e+04 2.008e+04 2.000e+00 1.000e+00 3.000e+00 3.000e+00\n",
      "  2.000e+00 3.000e+00 3.000e+00 6.000e+00 3.000e+00 6.000e+00]\n",
      " [1.730e+09 2.008e+04 2.008e+04 2.008e+04 2.008e+04 2.008e+04 2.008e+04\n",
      "  2.007e+04 2.007e+04 2.007e+04 2.007e+04 2.000e+00 1.000e+00 3.000e+00\n",
      "  4.000e+00 4.000e+00 4.000e+00 5.000e+00 5.000e+00 3.000e+00 5.000e+00\n",
      "  2.008e+04 2.008e+04 2.008e+04 2.008e+04 2.008e+04 2.008e+04 2.008e+04\n",
      "  2.008e+04 2.008e+04 2.008e+04 2.000e+00 1.000e+00 3.000e+00 3.000e+00\n",
      "  2.000e+00 3.000e+00 3.000e+00 6.000e+00 3.000e+00 6.000e+00]]\n",
      "🎉  resampling script finished successfully\n"
     ]
    }
   ],
   "source": [
    "#!/usr/bin/env python3\n",
    "\"\"\"\n",
    "resample_raw_lob_1s.py\n",
    "──────────────────────\n",
    "Load **raw_lob.npy** (millisecond-resolved seconds in col-0)  \n",
    "and down-sample to an even 1-second grid.\n",
    "\n",
    "Output → raw_lob_1s.npy  \n",
    "layout unchanged: ts (float64 sec) + 40 × float32 LOB features.\n",
    "\"\"\"\n",
    "\n",
    "from pathlib import Path\n",
    "\n",
    "import numpy as np\n",
    "import pandas as pd\n",
    "\n",
    "# ───────── paths ─────────\n",
    "IN_PATH  = Path(\"../data/processed/my_nq/raw_lob.npy\")\n",
    "OUT_DIR  = IN_PATH.parent\n",
    "OUT_PATH = OUT_DIR / \"raw_lob_1s.npy\"\n",
    "\n",
    "# ───────── column names ─────────\n",
    "N_LEVELS = 10\n",
    "COLS = ([\"ts_sec\"] +\n",
    "        [f\"bid_px{i}\" for i in range(N_LEVELS)] +\n",
    "        [f\"bid_sz{i}\" for i in range(N_LEVELS)] +\n",
    "        [f\"ask_px{i}\" for i in range(N_LEVELS)] +\n",
    "        [f\"ask_sz{i}\" for i in range(N_LEVELS)])  # total = 41\n",
    "\n",
    "# ───────── load ─────────\n",
    "print(\"📥  loading raw_lob.npy …\")\n",
    "raw = np.load(IN_PATH)                                   # (rows, 41)\n",
    "df  = pd.DataFrame(raw, columns=COLS)\n",
    "\n",
    "# ─── ts_sec → DateTime index ───\n",
    "df.index = pd.to_datetime(df[\"ts_sec\"], unit=\"s\", utc=True)\n",
    "df.drop(columns=\"ts_sec\", inplace=True)\n",
    "df = df.sort_index()                                     # ensure chronological\n",
    "\n",
    "# ─── 1-second resample ───\n",
    "print(\"⏱️   resampling to 1-second grid …\")\n",
    "df_1s = df.resample(\"1S\").last().ffill()\n",
    "\n",
    "# ─── rebuild NumPy array ───\n",
    "ts_sec = (df_1s.index.astype(\"int64\") // 1_000_000_000).astype(np.float64)\n",
    "features = df_1s.astype(np.float32).to_numpy()\n",
    "raw_1s   = np.column_stack([ts_sec, features])           # (rows, 41)\n",
    "\n",
    "# ─── save ───\n",
    "np.save(OUT_PATH, raw_1s)\n",
    "print(f\"✅ saved {OUT_PATH}   {raw_1s.shape[0]:,} rows × {raw_1s.shape[1]} cols\")\n",
    "\n",
    "print(\"🔎  running sanity checks …\")\n",
    "# 1) monotonic 1-second steps\n",
    "diff = np.diff(raw_1s[:, 0])\n",
    "assert np.all(diff == 1.0), \"timestamps are not strict 1-second increments\"\n",
    "# 2) no NaN / inf\n",
    "assert np.isfinite(raw_1s).all(), \"array contains NaN or ±Inf\"\n",
    "print(\"   • timestamp step OK\")\n",
    "print(\"   • no NaN / Inf\")\n",
    "# 3) peek at head / tail\n",
    "np.set_printoptions(precision=3, suppress=True)\n",
    "print(\"   first 3 rows:\\n\", raw_1s[:3])\n",
    "print(\"   last  3 rows:\\n\",  raw_1s[-3:])\n",
    "print(\"🎉  resampling script finished successfully\")\n"
   ]
  },
  {
   "cell_type": "code",
   "execution_count": null,
   "id": "77d34593",
   "metadata": {},
   "outputs": [
    {
     "name": "stdout",
     "output_type": "stream",
     "text": [
      "📥  Loading raw_lob_100ms.npy …\n",
      "   → 9,551,796 snapshots\n",
      "⚙️  Compiling & running fast labeller …\n",
      "✅ Saved ..\\data\\processed\\my_nq\\labels_30s.npy\n",
      "   positives: 135,410  (1.42%)\n"
     ]
    }
   ],
   "source": []
  },
  {
   "cell_type": "code",
   "execution_count": null,
   "id": "9a442bce",
   "metadata": {},
   "outputs": [],
   "source": []
  }
 ],
 "metadata": {
  "kernelspec": {
   "display_name": "TLOB Kernel",
   "language": "python",
   "name": "tlob-env"
  },
  "language_info": {
   "codemirror_mode": {
    "name": "ipython",
    "version": 3
   },
   "file_extension": ".py",
   "mimetype": "text/x-python",
   "name": "python",
   "nbconvert_exporter": "python",
   "pygments_lexer": "ipython3",
   "version": "3.10.11"
  }
 },
 "nbformat": 4,
 "nbformat_minor": 5
}
